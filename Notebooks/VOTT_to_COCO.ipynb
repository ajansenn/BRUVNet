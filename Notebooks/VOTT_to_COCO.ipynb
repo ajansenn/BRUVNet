{
 "cells": [
  {
   "cell_type": "markdown",
   "metadata": {},
   "source": [
    "# Convert Visual Object Tagging Tool (VoTT) labels to BRUVNet-COCO format\n",
    "\n",
    "This notebook is designed to convert images annotated and labelled in VoTT to BRUVNet-COCO format with associated metadata. Some requirements:\n",
    "\n",
    "* Images are stored in Azure Blob containers and connected to VoTT for annotation and labelling using polylines\n",
    "\n",
    "When you've finished annotating and labelling, export images with the following settings. \n",
    "\n",
    "* VoTT export settings: \n",
    "  * Provider = VoTT .json file \n",
    "  * Asset State = Only Tagged Objects Assests (Include Images)\n",
    "\n",
    "When all cells are run, the converted file, 'VOTT-COCO-Export.json', can be found in Azure Blob folder where the original images are stored. "
   ]
  },
  {
   "cell_type": "code",
   "execution_count": null,
   "metadata": {},
   "outputs": [],
   "source": [
    "import pandas as pd\n",
    "import json\n",
    "import numpy as np\n",
    "from PIL import Image, ImageDraw\n",
    "import os, uuid,io\n",
    "import cv2\n",
    "import matplotlib.pyplot as plt\n",
    "import matplotlib.patches as patches\n",
    "from azure.storage.blob import BlobServiceClient, BlobClient, ContainerClient"
   ]
  },
  {
   "cell_type": "markdown",
   "metadata": {},
   "source": [
    "## Enter Azure credentials\n",
    "\n",
    "Provide azure storage account url and SAS with read, write permissions, that images and labels are stored in.\n",
    "\n",
    "* source_url = blob storage url e.g. https://*mystorageaccount*.blob.core.windows.net\n",
    "* source_SAS = SAS token for storage account images are in e.g. ?sv=2019-02-02&st=2019-04-29T22%3A18%3A26Z&se=2019-04-30T02%3A23%3A26Z&sr=b&sp=rw&sip=168.1.5.60-168.1.5.70&spr=https&sig=Z%2FRHIX5Xcg0Mq2rqI3OlWTjEg2tYkboXr1P9ZUXDtkk%3D\n"
   ]
  },
  {
   "cell_type": "code",
   "execution_count": null,
   "metadata": {},
   "outputs": [],
   "source": [
    "#Storage account URL and SAS key (with Read, Write (to write back the COCO format file to same location) and List permission on the container and blob)\n",
    "source_url = \"\"\n",
    "source_SAS = \"\"\n"
   ]
  },
  {
   "cell_type": "markdown",
   "metadata": {},
   "source": [
    "### Specify Blob Container Name\n",
    "\n",
    "Enter the name of the Azure blob container that the images and labels are stored in. \n",
    "\n",
    "i.e. source_container_client = source_blob_client.get_container_client('BLOB FOLDER NAME HERE')"
   ]
  },
  {
   "cell_type": "code",
   "execution_count": null,
   "metadata": {},
   "outputs": [],
   "source": [
    "source_blob_client = BlobServiceClient(account_url=source_url, credential=source_SAS)\n",
    "source_container_client = source_blob_client.get_container_client('')"
   ]
  },
  {
   "cell_type": "markdown",
   "metadata": {},
   "source": [
    "### Specify VoTT .json name\n",
    "\n",
    "When exporting from VoTT a new folder is created in the azure blob called vott-json-export, containing all your labelled images and a .json file. Specify the directory with the .json file by ('vott-json-export/VOTTPROJECTNAME-export.json'). Change VOTTPROJECTNAME to the name of your VoTT project, this can be confirmed in the blob container. "
   ]
  },
  {
   "cell_type": "code",
   "execution_count": null,
   "metadata": {},
   "outputs": [],
   "source": [
    "vott_export_blob = source_container_client.get_blob_client('vott-json-export/VOTTPROJECTNAME-export.json').download_blob()"
   ]
  },
  {
   "cell_type": "code",
   "execution_count": null,
   "metadata": {},
   "outputs": [],
   "source": [
    "vott_data = json.loads(vott_export_blob.readall())"
   ]
  },
  {
   "cell_type": "code",
   "execution_count": null,
   "metadata": {},
   "outputs": [],
   "source": [
    "coco_data = []"
   ]
  },
  {
   "cell_type": "markdown",
   "metadata": {},
   "source": [
    "### Image licensing and dataset information\n",
    "\n",
    "This adds license and data information, in COCO format, for the BRUVNet dataset. A creative commons license is used. Leave this section as default. "
   ]
  },
  {
   "cell_type": "code",
   "execution_count": null,
   "metadata": {},
   "outputs": [],
   "source": [
    "info_dict = {}\n",
    "info_dict[\"info\"] =  {\"description\": \"BRUVNet 2020 Dataset\",\n",
    "        \"url\": \"https://www.bruvnet.org/\",\n",
    "        \"version\": \"1.0\",\n",
    "        \"year\": 2020,\n",
    "        \"contributor\": \"BRUVNet.org\",\n",
    "        \"date_created\": \"2020/08/01\"\n",
    "    }"
   ]
  },
  {
   "cell_type": "code",
   "execution_count": null,
   "metadata": {},
   "outputs": [],
   "source": [
    "license_dict = {}\n",
    "license_dict[\"licenses\"] = [\n",
    "        {\n",
    "            \"url\": \"http://creativecommons.org/licenses/by/3.0/au/\",\n",
    "            \"id\": 1,\n",
    "            \"name\": \"Attribution 3.0 Australia (CC BY 3.0 AU)\"\n",
    "        }]"
   ]
  },
  {
   "cell_type": "markdown",
   "metadata": {},
   "source": [
    "## Add BRUVNet Metadata\n",
    "\n",
    "To allow subsetting and querying of the dataset, metadata is added that corresponds to the labels that you're converting to COCO format. \n",
    "\n",
    "\n",
    "* dataset_year = the year the images were collected (not labelled).\n",
    "* site_type = name of the location images were collected e.g. Sydney Harbour, Shaw's Creek, Mudginberri Billabong.\n",
    "* water_type = e.g. Freshwater, Marine or Estuarine\n",
    "* habitat_type = the type of habitat images were collected from e.g. Lowland Billabong, Coral Reef, River.\n",
    "* country = the country images were collected from.\n",
    "* attribution = the organisation who collected or owns the images"
   ]
  },
  {
   "cell_type": "code",
   "execution_count": null,
   "metadata": {},
   "outputs": [],
   "source": [
    "##Additional Info for BRUVNet to enable tagging and search. Not accessed by COCO API tools\n",
    "\n",
    "#Note: Takes 1 value for each assuming the batch of metadata is from a single source\n",
    "\n",
    "# 1. Year captured\n",
    "dataset_year = 2020\n",
    "\n",
    "# 2. Site\n",
    "site_type  =  \"Georgetown Billabong\"\n",
    "\n",
    "# 3. Water Type\n",
    "water_type = \"Freshwater\"\n",
    "\n",
    "# 4. Habitat\n",
    "habitat_type = \"Lowland Billabong\"\n",
    "\n",
    "#Country\n",
    "country = \"Australia\"\n",
    "\n",
    "#Attribution\n",
    "attribution = \"Supervising Scientist\"\n"
   ]
  },
  {
   "cell_type": "code",
   "execution_count": null,
   "metadata": {},
   "outputs": [],
   "source": [
    "year_dict = {}\n",
    "year_dict[\"years\"] = [\n",
    "    {\n",
    "        \"name\": dataset_year,\n",
    "        \"id\":1\n",
    "    }\n",
    "]"
   ]
  },
  {
   "cell_type": "code",
   "execution_count": null,
   "metadata": {},
   "outputs": [],
   "source": [
    "site_dict = {}\n",
    "site_dict[\"sites\"] = [\n",
    "    {\n",
    "        \"name\": site_type,\n",
    "        \"id\":1\n",
    "    }\n",
    "]"
   ]
  },
  {
   "cell_type": "code",
   "execution_count": null,
   "metadata": {},
   "outputs": [],
   "source": [
    "\n",
    "watertype_dict = {}\n",
    "watertype_dict[\"waters\"] = [\n",
    "    {\n",
    "        \"name\": water_type,\n",
    "        \"id\": 1\n",
    "    }]\n",
    "\n"
   ]
  },
  {
   "cell_type": "code",
   "execution_count": null,
   "metadata": {},
   "outputs": [],
   "source": [
    "habitat_dict = {}\n",
    "habitat_dict[\"habitats\"] = [\n",
    "    {\n",
    "        \"name\": habitat_type,\n",
    "        \"id\":1\n",
    "    }\n",
    "]"
   ]
  },
  {
   "cell_type": "code",
   "execution_count": null,
   "metadata": {},
   "outputs": [],
   "source": [
    "country_dict = {}\n",
    "country_dict[\"countries\"] = [\n",
    "    {\n",
    "        \"name\": country,\n",
    "        \"id\":1\n",
    "    }\n",
    "]"
   ]
  },
  {
   "cell_type": "code",
   "execution_count": null,
   "metadata": {},
   "outputs": [],
   "source": [
    "attribution_dict = {}\n",
    "attribution_dict[\"attributions\"] = [\n",
    "    {\n",
    "        \"name\": attribution,\n",
    "        \"id\":1\n",
    "    }\n",
    "]"
   ]
  },
  {
   "cell_type": "markdown",
   "metadata": {},
   "source": [
    "## Confirm Label Names\n",
    "\n",
    "Run the cell below to read the species names in the dataset being converted. Use this to check the correct spelling and format before conversion. \n",
    "\n",
    "Fish species name should be in the following format\n",
    "\n",
    "* Genus species e.g. Ambassis macleayi \n",
    "\n",
    "If the species name is spelt incorrectly it will conflict when uploading to BRUVNet Master dataset and the whole dataset will not be combined. It's important to ensure this is correct. \n",
    "\n",
    "If identification can only be made to genus ensure the species is included as either spp. or sp. for multiple or unnamed species respectively. See taxonomy of labelling on Readme for more information."
   ]
  },
  {
   "cell_type": "code",
   "execution_count": null,
   "metadata": {
    "tags": []
   },
   "outputs": [],
   "source": [
    "#Get all the labels in the dataset and create a categories dictionary to reference and append to the COCO format file\n",
    "categories = []\n",
    "\n",
    "cat_id = 1 #initiate this with the relevant annotation id\n",
    "\n",
    "tags = []\n",
    "for img in vott_data['assets']:\n",
    "    for annot in vott_data[\"assets\"][img][\"regions\"]:\n",
    "        \n",
    "        if annot[\"tags\"][0] not in tags:\n",
    "            \n",
    "            cat_dict = {}\n",
    "            tags.append(annot[\"tags\"][0])\n",
    "            cat_dict[\"id\"] = cat_id\n",
    "            cat_dict[\"name\"] = annot[\"tags\"][0]\n",
    "            cat_dict[\"supercategory\"] = \"Fish Species\"\n",
    "            cat_id = cat_id + 1\n",
    "            categories.append(cat_dict)\n",
    "\n",
    "categories_dict= {}\n",
    "categories_dict[\"categories\"] = categories\n",
    "print(categories_dict[\"categories\"])\n"
   ]
  },
  {
   "cell_type": "code",
   "execution_count": null,
   "metadata": {},
   "outputs": [],
   "source": [
    "images = []\n",
    "annotations = []\n",
    "\n",
    "img_id = 1 #initiate this with the relevant image id\n",
    "annot_id = 1 #initiate this with the relevant annotation id\n",
    "\n",
    "for img in vott_data['assets']:\n",
    "    img_dict = {}\n",
    "    \n",
    "    \n",
    "    img_dict[\"id\"] = img_id\n",
    "    img_dict[\"width\"] = vott_data['assets'][img]['asset']['size']['width']\n",
    "    img_dict[\"height\"] = vott_data['assets'][img]['asset']['size']['height']\n",
    "    img_dict['file_name'] = vott_data['assets'][img]['asset']['name']\n",
    "    img_dict['license'] = 1 #handle if multiple licenses\n",
    "    img_dict[\"source_bruvnet_url\"] = vott_data['assets'][img]['asset']['path']\n",
    "    img_dict[\"coco_url\"] =  vott_data['assets'][img]['asset']['path']\n",
    "    img_dict[\"year_id\"] = 1\n",
    "    img_dict[\"site_id\"] = 1\n",
    "    img_dict[\"water_id\"] = 1\n",
    "    img_dict[\"habitat_id\"] = 1\n",
    "    img_dict[\"country_id\"] = 1\n",
    "    img_dict[\"attribution_id\"] = 1\n",
    "    \n",
    "\n",
    "    \n",
    "\n",
    "    ## Annotations\n",
    "    for annot in vott_data[\"assets\"][img][\"regions\"]:\n",
    "        annot_dict = {}\n",
    "        \n",
    "        annot_dict[\"id\"] = annot_id\n",
    "        annot_dict[\"image_id\"] = img_dict[\"id\"]\n",
    "        annot_dict[\"category_id\"] = list(filter(lambda s: s['name'] in annot[\"tags\"], categories_dict[\"categories\"]))[0]['id']\n",
    "        annot_dict[\"iscrowd\"] = 0\n",
    "        annot_dict[\"bbox\"] = [annot[\"boundingBox\"][\"left\"], annot[\"boundingBox\"][\"top\"],annot[\"boundingBox\"][\"width\"],annot[\"boundingBox\"][\"height\"] ]\n",
    "        annot_dict[\"area\"] = annot[\"boundingBox\"][\"height\"] * annot[\"boundingBox\"][\"width\"]\n",
    "\n",
    "        segmentation = []\n",
    "\n",
    "        for seg in annot[\"points\"]:\n",
    "            segmentation.append(seg[\"x\"])\n",
    "            segmentation.append(seg[\"y\"])\n",
    "\n",
    "        annot_dict[\"segmentation\"] = [segmentation]\n",
    "\n",
    "        \n",
    "        annot_id = annot_id+1\n",
    "        annotations.append(annot_dict)\n",
    "\n",
    "        \n",
    "    \n",
    "    \n",
    "    img_id = img_id+1\n",
    "    images.append(img_dict)\n",
    "\n",
    "images_dict = {}\n",
    "images_dict[\"images\"] = images\n",
    "\n",
    "annotations_dict = {}\n",
    "annotations_dict[\"annotations\"] = annotations\n",
    "\n",
    "\n"
   ]
  },
  {
   "cell_type": "code",
   "execution_count": null,
   "metadata": {},
   "outputs": [],
   "source": [
    "final_dict = {**info_dict,**images_dict,**annotations_dict,**license_dict,**categories_dict , **year_dict,**country_dict ,**site_dict, **watertype_dict, **habitat_dict, **attribution_dict}"
   ]
  },
  {
   "cell_type": "code",
   "execution_count": null,
   "metadata": {},
   "outputs": [],
   "source": [
    "final_dict.keys()"
   ]
  },
  {
   "cell_type": "code",
   "execution_count": null,
   "metadata": {},
   "outputs": [],
   "source": [
    "upload_blob_client = source_container_client.get_blob_client(\"VOTT-COCO-Export.json\")"
   ]
  },
  {
   "cell_type": "code",
   "execution_count": null,
   "metadata": {},
   "outputs": [],
   "source": [
    "upload_blob_client.upload_blob(json.dumps(final_dict), blob_type=\"BlockBlob\", overwrite= True)"
   ]
  },
  {
   "cell_type": "code",
   "execution_count": null,
   "metadata": {
    "tags": []
   },
   "outputs": [],
   "source": [
    "print(\"total images:\", len(final_dict[\"images\"]))\n",
    "print(\"total annotations:\", len(final_dict[\"annotations\"]))\n"
   ]
  }
 ],
 "metadata": {
  "kernelspec": {
   "display_name": "Python (KakaduFishAI)",
   "language": "python",
   "name": "kakadufishai"
  },
  "language_info": {
   "codemirror_mode": {
    "name": "ipython",
    "version": 3
   },
   "file_extension": ".py",
   "mimetype": "text/x-python",
   "name": "python",
   "nbconvert_exporter": "python",
   "pygments_lexer": "ipython3",
   "version": "3.6.5"
  }
 },
 "nbformat": 4,
 "nbformat_minor": 2
}
